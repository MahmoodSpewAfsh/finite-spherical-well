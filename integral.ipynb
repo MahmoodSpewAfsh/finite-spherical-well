{
 "cells": [
  {
   "cell_type": "code",
   "execution_count": 1,
   "metadata": {},
   "outputs": [],
   "source": [
    "import sympy as sp\n",
    "import numpy as np"
   ]
  },
  {
   "cell_type": "code",
   "execution_count": 8,
   "metadata": {},
   "outputs": [
    {
     "name": "stdout",
     "output_type": "stream",
     "text": [
      "Normalization constant: 0.9999999999999998\n",
      "[0.9999999999999998, 0.9507491268969338, 0.9039239022952822, 0.8594048608885091, 0.8170784211407311, 0.7768365955058755, 0.738576714918798, 0.702201166855453, 0.6676171462938302, 0.6347364189402818, 0.6034750961171594, 0.5737534207374326, 0.5454955638202433, 0.5186294310282472, 0.4930864787331597, 0.4688015391402352, 0.4457126540255175, 0.423760916661676, 0.4028903215291329, 0.38304762142904814, 0.36418219163361487, 0.3462459007270713, 0.3291929878079055, 0.31297994573895926, 0.29756541014756527, 0.2829100538925258, 0.26897648672868346, 0.2557291599131006, 0.24313427550946679, 0.2311597001593442, 0.21977488310025353, 0.20895077822144184, 0.1986597699584707, 0.18887560283756177, 0.17957331448994399, 0.17072917196530277, 0.16232061118184815, 0.15432617935851883, 0.14672548028245144, 0.139499122272074, 0.132628668703063, 0.12609659097093992, 0.11988622377030092, 0.11398172257658405, 0.10836802322189583, 0.10303080346176417, 0.0979564464347619, 0.09313200592177616, 0.08854517331628876, 0.08418424622139924, 0.08003809859347187, 0.07609615235623411, 0.07234835041290565, 0.06878513098750347, 0.0653974032298602, 0.062176524022116306, 0.05911427592751332, 0.056202846225227726, 0.053434806977757925, 0.05080309608000954, 0.04830099924173012, 0.04592213285732439, 0.04366042771934618, 0.04151011353411508, 0.03946570419995251, 0.03752198381047751, 0.03567399334725239, 0.033917018027827255, 0.032246575276904325, 0.030658403289933047, 0.02914845015995793, 0.027712863539978812, 0.026347980814448727, 0.025050319754834297, 0.023816569635397723, 0.022643582786534427, 0.02152836656411605, 0.02046807571435048, 0.019460005114679057, 0.018501582872190992, 0.017590363761946844, 0.01672402298847044, 0.01590035025449253, 0.015117244121814206, 0.014372706649902669, 0.013664838298540713, 0.012991833081525374, 0.012351973959050957, 0.011743628457021357, 0.01116524450211505, 0.01061534646197668, 0.010092531380432783, 0.00959546539812638, 0.009122880349438391, 0.00867357052701375, 0.008246389605637306, 0.007840247717611618, 0.007454108672174928, 0.007086987311865173, 0.006737946999085465]\n"
     ]
    }
   ],
   "source": [
    "from scipy.integrate import quad\n",
    "\n",
    "def normalize_function(f, a, b):\n",
    "    \"\"\"\n",
    "    Normalize the function f(x) over the interval [a, b].\n",
    "\n",
    "    Parameters:\n",
    "    f (function): The function to normalize.\n",
    "    a (float): The lower bound of the interval.\n",
    "    b (float): The upper bound of the interval.\n",
    "\n",
    "    Returns:\n",
    "    float: The normalization constant.\n",
    "    function: The normalized function.\n",
    "    \"\"\"\n",
    "\n",
    "    # Calculate the integral of the function over the interval [a, b]\n",
    "    integral, _ = quad(f, a, b)\n",
    "\n",
    "    # Calculate the normalization constant\n",
    "    C = 1 / integral\n",
    "\n",
    "    # Define the normalized function\n",
    "    def normalized_f(x):\n",
    "        return C * f(x)\n",
    "\n",
    "    return C, normalized_f\n",
    "\n",
    "# Example usage:\n",
    "# Define the function to normalize\n",
    "def f(x):\n",
    "    return np.exp(-x)\n",
    "\n",
    "# Define the interval [a, b]\n",
    "a = 0\n",
    "b = np.inf\n",
    "\n",
    "# Find the normalization constant and the normalized function\n",
    "C, normalized_f = normalize_function(f, a, b)\n",
    "\n",
    "print(f\"Normalization constant: {C}\")\n",
    "\n",
    "# Test the normalized function\n",
    "x_values = np.linspace(a, 5, 100)\n",
    "normalized_values = [normalized_f(x) for x in x_values]\n",
    "\n",
    "# Output normalized values for inspection (optional)\n",
    "print(normalized_values)\n"
   ]
  },
  {
   "cell_type": "code",
   "execution_count": 5,
   "metadata": {},
   "outputs": [
    {
     "name": "stdout",
     "output_type": "stream",
     "text": [
      "Integral of Hankel function H1_0(x) from 1 to infinity: -1.2800846377671067\n",
      "Estimated error: 1.505940039336906e-09\n"
     ]
    },
    {
     "name": "stderr",
     "output_type": "stream",
     "text": [
      "C:\\Users\\moham\\AppData\\Local\\Temp\\ipykernel_26284\\617330931.py:17: IntegrationWarning: The integral is probably divergent, or slowly convergent.\n",
      "  integral, error = quad(hankel_func, a, b, limit=500)\n"
     ]
    }
   ],
   "source": [
    "import numpy as np\n",
    "from scipy.integrate import quad\n",
    "from scipy.special import hankel1e\n",
    "\n",
    "# Define the order of the Hankel function\n",
    "nu = 0\n",
    "\n",
    "# Define the Hankel function of the first kind\n",
    "def hankel_func(x):\n",
    "    return hankel1e(nu, x)\n",
    "\n",
    "# Define the interval [a, b] with b as infinity\n",
    "a = 1\n",
    "b = np.inf\n",
    "\n",
    "# Compute the integral\n",
    "integral, error = quad(hankel_func, a, b, limit=500)\n",
    "\n",
    "print(f\"Integral of Hankel function H1_{nu}(x) from {a} to infinity: {integral}\")\n",
    "print(f\"Estimated error: {error}\")\n"
   ]
  }
 ],
 "metadata": {
  "kernelspec": {
   "display_name": "Python 3",
   "language": "python",
   "name": "python3"
  },
  "language_info": {
   "codemirror_mode": {
    "name": "ipython",
    "version": 3
   },
   "file_extension": ".py",
   "mimetype": "text/x-python",
   "name": "python",
   "nbconvert_exporter": "python",
   "pygments_lexer": "ipython3",
   "version": "3.12.2"
  }
 },
 "nbformat": 4,
 "nbformat_minor": 2
}
